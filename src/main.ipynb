{
 "cells": [
  {
   "cell_type": "markdown",
   "metadata": {
    "collapsed": false,
    "jupyter": {
     "outputs_hidden": false
    },
    "pycharm": {
     "name": "#%% md\n"
    }
   },
   "source": [
    "\n",
    "# Preambule:\n",
    "\n",
    "Je vais ici procéder à une analyse des URL pour définir s'il s'agit d'une URL suspecte (spam) ou non. J'ai utilisé plusieurs caractéristiques de ces URL à ma disposition, mais les caractéristiques explorées ne sont pas exhaustives."
   ]
  },
  {
   "cell_type": "code",
   "execution_count": 35,
   "metadata": {
    "collapsed": false,
    "jupyter": {
     "outputs_hidden": false
    },
    "pycharm": {
     "is_executing": true,
     "name": "#%%\n"
    }
   },
   "outputs": [],
   "source": [
    "import re\n",
    "import threading\n",
    "import requests\n",
    "from typing import Optional, List, Dict\n",
    "from datetime import datetime\n",
    "from urllib.parse import urlparse\n",
    "from loguru import logger\n",
    "import numpy as np\n",
    "from bs4 import BeautifulSoup\n",
    "from spellchecker import SpellChecker\n",
    "import textdistance\n",
    "from tqdm import tqdm\n",
    "import pandas as pd\n",
    "from pathlib import Path\n",
    "from sklearn.model_selection import train_test_split\n",
    "from sklearn.linear_model import LogisticRegression\n",
    "from sklearn.metrics import accuracy_score, classification_report\n",
    "from sklearn.preprocessing import PolynomialFeatures\n",
    "from torch.utils.data import DataLoader, TensorDataset\n",
    "import torch\n",
    "import torch.nn as nn\n",
    "import torch.optim as optim\n",
    "from sklearn.feature_extraction.text import TfidfVectorizer\n",
    "from sklearn.tree import DecisionTreeClassifier\n",
    "from sklearn.ensemble import RandomForestClassifier\n",
    "from xgboost import XGBClassifier\n",
    "import seaborn.objects as so"
   ]
  },
  {
   "cell_type": "markdown",
   "metadata": {
    "collapsed": false,
    "jupyter": {
     "outputs_hidden": false
    },
    "pycharm": {
     "name": "#%% md\n"
    }
   },
   "source": []
  },
  {
   "cell_type": "markdown",
   "metadata": {
    "collapsed": false,
    "jupyter": {
     "outputs_hidden": false
    },
    "pycharm": {
     "name": "#%% md\n"
    }
   },
   "source": [
    "# Nettoyage et création des caractéristiques du dataset\n",
    "* Importation du dataset\n",
    "* Analyse des premières lignes"
   ]
  },
  {
   "cell_type": "code",
   "execution_count": 36,
   "metadata": {
    "collapsed": false,
    "jupyter": {
     "outputs_hidden": false
    },
    "pycharm": {
     "name": "#%%\n"
    }
   },
   "outputs": [
    {
     "data": {
      "text/html": [
       "<div>\n",
       "<style scoped>\n",
       "    .dataframe tbody tr th:only-of-type {\n",
       "        vertical-align: middle;\n",
       "    }\n",
       "\n",
       "    .dataframe tbody tr th {\n",
       "        vertical-align: top;\n",
       "    }\n",
       "\n",
       "    .dataframe thead th {\n",
       "        text-align: right;\n",
       "    }\n",
       "</style>\n",
       "<table border=\"1\" class=\"dataframe\">\n",
       "  <thead>\n",
       "    <tr style=\"text-align: right;\">\n",
       "      <th></th>\n",
       "      <th>domain</th>\n",
       "      <th>label</th>\n",
       "    </tr>\n",
       "  </thead>\n",
       "  <tbody>\n",
       "    <tr>\n",
       "      <th>0</th>\n",
       "      <td>http://sprint.com/business/solutions/mobility_...</td>\n",
       "      <td>0.0</td>\n",
       "    </tr>\n",
       "    <tr>\n",
       "      <th>1</th>\n",
       "      <td>hesperia.gsfc.nasa.gov/~schmahl/nnls/</td>\n",
       "      <td>0.0</td>\n",
       "    </tr>\n",
       "    <tr>\n",
       "      <th>2</th>\n",
       "      <td>http://web.de/magazine/digital/sicher-im-netz/...</td>\n",
       "      <td>0.0</td>\n",
       "    </tr>\n",
       "    <tr>\n",
       "      <th>3</th>\n",
       "      <td>www.wired.com/science/discoveries/news/1999/08...</td>\n",
       "      <td>0.0</td>\n",
       "    </tr>\n",
       "    <tr>\n",
       "      <th>4</th>\n",
       "      <td>thomas.arnatt.com/wp-includes/pono/AOL_Logio.htm</td>\n",
       "      <td>1.0</td>\n",
       "    </tr>\n",
       "  </tbody>\n",
       "</table>\n",
       "</div>"
      ],
      "text/plain": [
       "                                              domain  label\n",
       "0  http://sprint.com/business/solutions/mobility_...    0.0\n",
       "1              hesperia.gsfc.nasa.gov/~schmahl/nnls/    0.0\n",
       "2  http://web.de/magazine/digital/sicher-im-netz/...    0.0\n",
       "3  www.wired.com/science/discoveries/news/1999/08...    0.0\n",
       "4   thomas.arnatt.com/wp-includes/pono/AOL_Logio.htm    1.0"
      ]
     },
     "execution_count": 36,
     "metadata": {},
     "output_type": "execute_result"
    }
   ],
   "source": [
    "csv_path = Path.cwd().parent / 'dataset.csv'\n",
    "df_base = pd.read_csv(csv_path)\n",
    "df_base.head(5)"
   ]
  },
  {
   "cell_type": "markdown",
   "metadata": {
    "collapsed": false,
    "jupyter": {
     "outputs_hidden": false
    },
    "pycharm": {
     "name": "#%% md\n"
    }
   },
   "source": [
    "On s'aperçoit immédiatement que le dataset est déséquilibré."
   ]
  },
  {
   "cell_type": "code",
   "execution_count": 37,
   "metadata": {
    "collapsed": false,
    "jupyter": {
     "outputs_hidden": false
    },
    "pycharm": {
     "name": "#%%\n"
    }
   },
   "outputs": [
    {
     "data": {
      "image/png": "[encoded data removed]",
      "text/plain": [
       "<Figure size 640x480 with 1 Axes>"
      ]
     },
     "metadata": {},
     "output_type": "display_data"
    }
   ],
   "source": [
    "df_base['label'] = df_base['label'].replace({0: 'Non Spam', 1: 'Spam'})\n",
    "graph = so.Plot(df_base, x=\"label\").add(so.Bar(), so.Count(), so.Dodge())\n",
    "graph.show()"
   ]
  },
  {
   "cell_type": "markdown",
   "metadata": {
    "collapsed": false,
    "jupyter": {
     "outputs_hidden": false
    },
    "pycharm": {
     "name": "#%% md\n"
    }
   },
   "source": [
    "# Nettoyage\n",
    "L'information de l'URL ne peut pas être utilisée de manière brute. Pour nettoyer mon dataset, je vais utiliser deux class distinctes qui prennent en argument une URL.\n",
    "\n",
    "* La première classe nettoie l'URL.\n",
    "* La seconde, qui hérite de la première, crée de nouvelles caractéristiques.\n",
    "\n",
    "Cette approche orientée ligne (j'aurais pu choisir une approche orientée colonne) est plus adaptée ici, car elle me permettra de paralléliser le nettoyage et d'augmenter la rapidité du processus compte tenu de la taille du dataset.\n",
    "\n",
    "Les informations essentielles à isoler sont : le nom de domaine, l'extension (par exemple .com), le chemin du site et enfin les paramètres.\n",
    "\n",
    "Certaines informations ne sont pas présentes dans certains cas ; la fonction retourne alors None."
   ]
  },
  {
   "cell_type": "code",
   "execution_count": 38,
   "metadata": {
    "collapsed": false,
    "jupyter": {
     "outputs_hidden": false
    },
    "pycharm": {
     "name": "#%%\n"
    }
   },
   "outputs": [],
   "source": [
    "class InformationUrl():\n",
    "    def __init__(self, full_url: str, y: bool):\n",
    "\n",
    "        self.full_url = full_url\n",
    "        self.domain: Optional[str] = self.get_domain_name() # Get domain name from full URL\n",
    "        self.extension: Optional[str] = self.get_extension()  # Get extension from full URL\n",
    "        self.path: Optional[str] = self.get_path() # Get path from full URL\n",
    "        self.query: Optional[str] = self.get_query() # Get query string from full URL\n",
    "        self.is_fishing = y # Assign value to is_fishing variable\n",
    "\n",
    "    def get_domain_name(self) -> Optional[str]:\n",
    "        \"\"\"\n",
    "        Extracts the domain name from the full URL.\n",
    "\n",
    "        Returns:\n",
    "            str or None: The domain name extracted from the URL, or None if no valid domain name is found.\n",
    "        \"\"\"\n",
    "        url = self.full_url\n",
    "        if not self.full_url.startswith('http'):\n",
    "            url = 'http://' + url\n",
    "        parsed_url = urlparse(url)\n",
    "        domain = parsed_url.netloc\n",
    "\n",
    "        if domain.startswith('www.'):\n",
    "            domain = domain[4:]\n",
    "\n",
    "        if domain == '':\n",
    "            logger.warning(f'{self.full_url} has nos no valid domaine name.')\n",
    "            domain = None\n",
    "\n",
    "        return domain\n",
    "\n",
    "    def get_extension(self) -> Optional[str]:\n",
    "\n",
    "        \"\"\"\n",
    "        Extracts the extension from the domain name of the URL.\n",
    "\n",
    "        Returns:\n",
    "            str or None: The extension extracted from the domain name, or None if no valid extension is found.\n",
    "        \"\"\"\n",
    "\n",
    "        if self.domain is None:\n",
    "            return None\n",
    "\n",
    "        elif '.' not in self.domain:\n",
    "            logger.warning(f'{self.full_url} has nos no valid extension.')\n",
    "            return None\n",
    "        else:\n",
    "            domain_extension = self.domain.split('.')[-1]\n",
    "            return domain_extension\n",
    "\n",
    "    def get_path(self) -> Optional[str]:\n",
    "        \"\"\"\n",
    "        Extracts the path from the URL.\n",
    "\n",
    "        Returns:\n",
    "            str or None: The path extracted from the URL, or None if no valid path is found.\n",
    "        \"\"\"\n",
    "\n",
    "        if self.domain is None:\n",
    "            return None\n",
    "\n",
    "        parsed_url = urlparse(self.full_url)\n",
    "        path = parsed_url.path\n",
    "\n",
    "        if path != '':\n",
    "            return path\n",
    "        else:\n",
    "            return None\n",
    "\n",
    "    def get_query(self):\n",
    "        \"\"\"\n",
    "        Extracts the query string from the URL.\n",
    "\n",
    "        Returns:\n",
    "            str or None: The query string extracted from the URL, or None if no valid query string is found.\n",
    "        \"\"\"\n",
    "        if self.domain is None:\n",
    "            return None\n",
    "\n",
    "        parsed_url = urlparse(self.full_url)\n",
    "        query = parsed_url.query\n",
    "\n",
    "        if query != '':\n",
    "            return query\n",
    "        else:\n",
    "            return None\n",
    "\n",
    "    def __str__(self):\n",
    "        return str({'domain': self.domain, 'extension': self.extension, 'path': self.path, 'query': self.query})\n",
    "\n"
   ]
  },
  {
   "cell_type": "markdown",
   "metadata": {
    "collapsed": false,
    "jupyter": {
     "outputs_hidden": false
    },
    "pycharm": {
     "name": "#%% md\n"
    }
   },
   "source": [
    "## Création des caractéristiques\n",
    "La seconde classe crée de nouvelles caractéristiques. Après une recherche, il m'est apparu que les éléments les plus caractéristiques des spams sont : le grand nombre de noms de sous-domaine, la présence de paramètres, et la présence de caractères spécifiques comme le 'o' cyrillique au lieu du 'o' latin. Ce sont autant de caractéristiques que je vais récupérer à travers cette seconde classe.\n",
    "\n",
    "Il m'est apparu que les sites malveillants, vers lesquels renvoient les liens, sont rarement des sites anciens. Je suis donc allé scraper le web (https://who.is/whois/) pour obtenir la date de création du site hébergé. Cette étape est particulièrement longue (environ 1.5 seconde par requête)."
   ]
  },
  {
   "cell_type": "code",
   "execution_count": 39,
   "metadata": {
    "collapsed": false,
    "jupyter": {
     "outputs_hidden": false
    },
    "pycharm": {
     "name": "#%%\n"
    }
   },
   "outputs": [],
   "source": [
    "\n",
    "class CharacteristicURL(InformationUrl):\n",
    "\n",
    "    def __init__(self, full_url: str,  y: bool):\n",
    "        InformationUrl.__init__(self, full_url=full_url, y=y)\n",
    "\n",
    "        '''\n",
    "            A class representing characteristic information about a URL.\n",
    "\n",
    "    Attributes:\n",
    "        full_url (str): The full URL to process.\n",
    "        y (bool): A boolean indicating whether the URL is associated with phishing.\n",
    "        number_sub_domains (Optional[int]): The number of subdomains in the URL.\n",
    "        ask_parameters_connection (bool): A boolean indicating whether the URL requests additional parameters upon connection.\n",
    "        specific_characters (Optional[bool]): A boolean indicating whether the URL contains specific characters associated with phishing.\n",
    "        creation_date (Optional[datetime]): The creation date of the URL.\n",
    "\n",
    "        '''\n",
    "\n",
    "        self.levenstein: Optional[List[int]] = None# self.get_levenstein_closest_words()\n",
    "        self.number_sub_domains: Optional[int] = self.get_number_sub_domain()\n",
    "        self.ask_parameters_connection: bool = self.is_request()\n",
    "        self.specific_characters: Optional[bool] = self.is_specific_character()\n",
    "        self.creation_date: Optional[datetime] = self.get_creation_date()\n",
    "\n",
    "    def is_request(self) -> Optional[bool]:\n",
    "\n",
    "        \"\"\"\n",
    "        Checks if the URL requests additional parameters upon connection.\n",
    "\n",
    "        Returns:\n",
    "            bool or None: True if additional parameters are requested, False otherwise. None if the URL is invalid.\n",
    "        \"\"\"\n",
    "\n",
    "        if '?' in self.full_url:\n",
    "            return True\n",
    "        else: return False\n",
    "\n",
    "    def is_specific_character(self) -> Optional[bool]:\n",
    "        \"\"\"\n",
    "        Checks if the URL path contains specific characters associated with phishing.\n",
    "\n",
    "        Returns:\n",
    "            bool or None: True if the URL path contains specific characters, False otherwise. None if the URL path is None.\n",
    "        \"\"\"\n",
    "        if self.path is None:\n",
    "            return None\n",
    "        if re.search(r'[\\u0080-\\uFFFF]', self.path):\n",
    "            return True\n",
    "        else:\n",
    "            return False\n",
    "\n",
    "    def get_number_sub_domain(self) -> Optional[int]:\n",
    "\n",
    "        \"\"\"\n",
    "        Calculates the number of subdomains in the URL.\n",
    "\n",
    "        Returns:\n",
    "            int or None: The number of subdomains in the URL if the domain is not None, otherwise None.\n",
    "        \"\"\"\n",
    "\n",
    "        if self.domain is not None:\n",
    "            return len(self.domain.split('.'))\n",
    "        else:\n",
    "            return 0\n",
    "\n",
    "    def get_levenstein_closest_words(self)-> Optional[List[float]]:\n",
    "\n",
    "        if self.path is None:\n",
    "            return None\n",
    "\n",
    "        separation_char = './_+%\\-'\n",
    "        words = [word for word in re.split(rf'[{separation_char}]', self.path)]\n",
    "        words = [word for word in words if len(word) > 3 and not re.search(r'\\d', word)]\n",
    "\n",
    "        spell = SpellChecker()\n",
    "\n",
    "        best_words = [spell.correction(word) for word in words]\n",
    "\n",
    "        levensteins = [1 - textdistance.levenshtein.distance(word, best_word)/len(best_word) if best_word is not None else 0 for word, best_word in zip(words, best_words)]\n",
    "\n",
    "        return levensteins\n",
    "\n",
    "    def get_creation_date(self) -> Optional[datetime]:\n",
    "\n",
    "        \"\"\"\n",
    "        Retrieves the creation date of the domain from a WHOIS lookup.\n",
    "\n",
    "        Returns:\n",
    "            datetime or None: The creation date of the domain if available, otherwise None.\n",
    "        \"\"\"\n",
    "\n",
    "        if self.domain is None:\n",
    "            return None\n",
    "\n",
    "        separation_char = '.'\n",
    "        words = [word for word in re.split(rf'[{separation_char}]', self.domain)]\n",
    "        valid_url = '.'.join(words[:2])\n",
    "        if len(valid_url.split('.')) == 2:\n",
    "            url = 'https://who.is/whois/' + valid_url\n",
    "        else:\n",
    "            return None\n",
    "\n",
    "        response = requests.get(url)\n",
    "        html_content = response.text\n",
    "\n",
    "        soup = BeautifulSoup(html_content, 'html.parser')\n",
    "\n",
    "        balise_div_registered_on = soup.find('div', class_='col-md-4 queryResponseBodyKey', string='Registered On')\n",
    "        if balise_div_registered_on is None:\n",
    "            return None\n",
    "        balise_suivante = balise_div_registered_on.find_next_sibling('div')\n",
    "        date_creation_str = balise_suivante.get_text()\n",
    "\n",
    "        if date_creation_str == '':\n",
    "            return None\n",
    "        else:\n",
    "            return datetime.strptime(date_creation_str, \"%Y-%m-%d\")\n",
    "\n",
    "    def get_values(self) -> Dict:\n",
    "\n",
    "        \"\"\"\n",
    "        Returns a dictionary containing various characteristics of the URL.\n",
    "\n",
    "        Returns:\n",
    "            dict: A dictionary containing the domain, extension, path, query string, parameters connection status,\n",
    "            presence of specific characters, creation date, number of subdomains, Levenshtein distances, and phishing status.\n",
    "        \"\"\"\n",
    "\n",
    "        return {\"domain\": self.domain, \"extension\": self.extension, \"path\": self.path, \"query\": self.query,\n",
    "         \"parameters\": self.ask_parameters_connection, \"specific_characters\": self.specific_characters,\n",
    "         \"creation_date\": self.creation_date, \"sub_domain\": self.number_sub_domains,\n",
    "         \"y\": self.is_fishing}\n",
    "\n",
    "    def __str__(self):\n",
    "        return str({\"domain\": [self.domain], \"extension\": [self.extension], \"path\": [self.path], \"query\": [self.query], \"parameters\": [self.ask_parameters_connection], \"specific_characters\": [self.specific_characters], \"creation_date\": [self.creation_date], \"sub_domain\": [self.number_sub_domains], \"levenstein\": [self.levenstein], \"y\": [self.is_fishing]})\n"
   ]
  },
  {
   "cell_type": "markdown",
   "metadata": {
    "collapsed": false,
    "jupyter": {
     "outputs_hidden": false
    },
    "pycharm": {
     "name": "#%% md\n"
    }
   },
   "source": [
    "Pour réaliser ce processus de nettoyage et création, je parallélise le processus avec du multithreading. Chaque thread effectue sa partie et vient enregistrer son résultat dans un dataframe final qui sera fusionné. Sans cette partie, il me faudrait environ 1 jour pour scraper toutes les dates de création des sites web.  \n",
    "A noter que j'ai équilibré mon dataset.    \n",
    "J'ai délibérément choisi de ne pas l'augmenter car j'ai suffisamment de données d'une part, et l'augmentation des adresses de label 1 serait pauvre et n'apporterait pas beaucoup à l'analyse. J'ai donc choisi de ne pas mettre tous les labels 0."
   ]
  },
  {
   "cell_type": "code",
   "execution_count": 40,
   "metadata": {
    "collapsed": false,
    "jupyter": {
     "outputs_hidden": false
    },
    "pycharm": {
     "name": "#%%\n"
    }
   },
   "outputs": [],
   "source": [
    "def create_df_characteristics(df: pd.DataFrame, thread_number: int):\n",
    "\n",
    "    '''\n",
    "    Create DataFrame with URL characteristics.\n",
    "\n",
    "    Args:\n",
    "        df (pd.DataFrame): DataFrame containing URLs and labels.\n",
    "        thread_number (int): Thread number for progress tracking.\n",
    "    '''\n",
    "\n",
    "\n",
    "    global df_thread\n",
    "    columns = CharacteristicURL(df['domain'].iloc[0], False)\n",
    "    columns = list(columns.get_values().keys())\n",
    "\n",
    "    df_urls = pd.DataFrame(columns=columns)\n",
    "    for index, row in tqdm(df.iterrows(), desc=f'Thread {thread_number}'):\n",
    "        url_name = row['domain']\n",
    "        label = row['label']\n",
    "        url_characteristic = CharacteristicURL(url_name, label)\n",
    "        df_urls.loc[index] = url_characteristic.get_values()\n",
    "\n",
    "    df_thread.append(df_urls)\n",
    "\n",
    "\n",
    "\n",
    "def run_thread_create_df_characteristics(df: pd.DataFrame, thread_number: int) -> pd.DataFrame:\n",
    "\n",
    "    '''\n",
    "    Run multiple threads to create DataFrame with URL characteristics.\n",
    "\n",
    "    Args:\n",
    "        df (pd.DataFrame): DataFrame containing URLs and labels.\n",
    "        thread_number (int): Number of threads to use.\n",
    "\n",
    "    Returns:\n",
    "        pd.DataFrame: DataFrame with URL characteristics.\n",
    "    '''\n",
    "\n",
    "    number_line_y_egal_1 = (df['label'] == 1).sum()\n",
    "    df = pd.concat([df.loc[df['label'] == 1].head(number_line_y_egal_1), df.loc[df['label'] == 0].head(number_line_y_egal_1)])\n",
    "    logger.info(f'among the {len(df)}, {2*number_line_y_egal_1} selected to have a balance dataset')\n",
    "    parts = np.array_split(df, thread_number)\n",
    "    global df_thread\n",
    "    df_thread = []\n",
    "    threads = []\n",
    "    # Afficher les cinq parties\n",
    "    for i, part in enumerate(parts):\n",
    "        thread = threading.Thread(target=create_df_characteristics, args=(part, i))\n",
    "        thread.start()\n",
    "        threads.append(thread)\n",
    "\n",
    "    for thread in threads:\n",
    "        thread.join()\n",
    "\n",
    "    return pd.concat(df_thread, axis=0)\n"
   ]
  },
  {
   "cell_type": "markdown",
   "metadata": {
    "collapsed": false,
    "jupyter": {
     "outputs_hidden": false
    },
    "pycharm": {
     "name": "#%% md\n"
    }
   },
   "source": [
    "Voici le code pour initialiser le nettoyage du dataset. Les commentaires servent à éviter de relancer ce processus qui dure tout de même environ 20 minutes. Pour des raisons pratiques, j'ai sauvegardé les résultats du nouveau dataset au format CSV."
   ]
  },
  {
   "cell_type": "code",
   "execution_count": 41,
   "metadata": {
    "collapsed": false,
    "jupyter": {
     "outputs_hidden": false
    },
    "pycharm": {
     "name": "#%%\n"
    }
   },
   "outputs": [],
   "source": [
    "csv_path = Path.cwd().parent / 'dataset.csv'\n",
    "df = pd.read_csv(csv_path)\n",
    "#df_save = run_thread_create_df_characteristics(df.head(2000), 40)\n",
    "# df_save.to_csv('new_dataset.csv', index=False)"
   ]
  },
  {
   "cell_type": "markdown",
   "metadata": {
    "collapsed": false,
    "jupyter": {
     "outputs_hidden": false
    },
    "pycharm": {
     "name": "#%% md\n"
    }
   },
   "source": [
    "On analyser ici le résultat final"
   ]
  },
  {
   "cell_type": "code",
   "execution_count": 42,
   "metadata": {
    "collapsed": false,
    "jupyter": {
     "outputs_hidden": false
    },
    "pycharm": {
     "name": "#%%\n"
    }
   },
   "outputs": [
    {
     "data": {
      "text/html": [
       "<div>\n",
       "<style scoped>\n",
       "    .dataframe tbody tr th:only-of-type {\n",
       "        vertical-align: middle;\n",
       "    }\n",
       "\n",
       "    .dataframe tbody tr th {\n",
       "        vertical-align: top;\n",
       "    }\n",
       "\n",
       "    .dataframe thead th {\n",
       "        text-align: right;\n",
       "    }\n",
       "</style>\n",
       "<table border=\"1\" class=\"dataframe\">\n",
       "  <thead>\n",
       "    <tr style=\"text-align: right;\">\n",
       "      <th></th>\n",
       "      <th>domain</th>\n",
       "      <th>extension</th>\n",
       "      <th>path</th>\n",
       "      <th>query</th>\n",
       "      <th>parameters</th>\n",
       "      <th>specific_characters</th>\n",
       "      <th>creation_date</th>\n",
       "      <th>sub_domain</th>\n",
       "      <th>y</th>\n",
       "    </tr>\n",
       "  </thead>\n",
       "  <tbody>\n",
       "    <tr>\n",
       "      <th>0</th>\n",
       "      <td>tobogo.net</td>\n",
       "      <td>net</td>\n",
       "      <td>/cdsb/board.php</td>\n",
       "      <td>board=qatorrent&amp;bm=view&amp;no=4268&amp;category=&amp;auth...</td>\n",
       "      <td>True</td>\n",
       "      <td>False</td>\n",
       "      <td>2017-08-06</td>\n",
       "      <td>2.0</td>\n",
       "      <td>Non Spam</td>\n",
       "    </tr>\n",
       "    <tr>\n",
       "      <th>1</th>\n",
       "      <td>torcache.net</td>\n",
       "      <td>net</td>\n",
       "      <td>/torrent/108BB17DBAAE5ABFADEBFC449D33D7B6889A1...</td>\n",
       "      <td>title=[kickass.to]game.of.thrones.s05e01.e02.e...</td>\n",
       "      <td>True</td>\n",
       "      <td>False</td>\n",
       "      <td>2011-04-29</td>\n",
       "      <td>2.0</td>\n",
       "      <td>Non Spam</td>\n",
       "    </tr>\n",
       "    <tr>\n",
       "      <th>2</th>\n",
       "      <td>linguee.fr</td>\n",
       "      <td>fr</td>\n",
       "      <td>linguee.fr</td>\n",
       "      <td>NaN</td>\n",
       "      <td>False</td>\n",
       "      <td>False</td>\n",
       "      <td>NaN</td>\n",
       "      <td>2.0</td>\n",
       "      <td>Non Spam</td>\n",
       "    </tr>\n",
       "    <tr>\n",
       "      <th>3</th>\n",
       "      <td>smithsonianeducation.org</td>\n",
       "      <td>org</td>\n",
       "      <td>www.smithsonianeducation.org/textiles/index.htm</td>\n",
       "      <td>NaN</td>\n",
       "      <td>False</td>\n",
       "      <td>False</td>\n",
       "      <td>2003-01-29</td>\n",
       "      <td>2.0</td>\n",
       "      <td>Non Spam</td>\n",
       "    </tr>\n",
       "    <tr>\n",
       "      <th>4</th>\n",
       "      <td>dol.gov</td>\n",
       "      <td>gov</td>\n",
       "      <td>www.dol.gov/oasam/programs/osdbu/</td>\n",
       "      <td>NaN</td>\n",
       "      <td>False</td>\n",
       "      <td>False</td>\n",
       "      <td>1997-10-02</td>\n",
       "      <td>2.0</td>\n",
       "      <td>Non Spam</td>\n",
       "    </tr>\n",
       "  </tbody>\n",
       "</table>\n",
       "</div>"
      ],
      "text/plain": [
       "                     domain extension  \\\n",
       "0                tobogo.net       net   \n",
       "1              torcache.net       net   \n",
       "2                linguee.fr        fr   \n",
       "3  smithsonianeducation.org       org   \n",
       "4                   dol.gov       gov   \n",
       "\n",
       "                                                path  \\\n",
       "0                                    /cdsb/board.php   \n",
       "1  /torrent/108BB17DBAAE5ABFADEBFC449D33D7B6889A1...   \n",
       "2                                         linguee.fr   \n",
       "3    www.smithsonianeducation.org/textiles/index.htm   \n",
       "4                  www.dol.gov/oasam/programs/osdbu/   \n",
       "\n",
       "                                               query  parameters  \\\n",
       "0  board=qatorrent&bm=view&no=4268&category=&auth...        True   \n",
       "1  title=[kickass.to]game.of.thrones.s05e01.e02.e...        True   \n",
       "2                                                NaN       False   \n",
       "3                                                NaN       False   \n",
       "4                                                NaN       False   \n",
       "\n",
       "  specific_characters creation_date  sub_domain         y  \n",
       "0               False    2017-08-06         2.0  Non Spam  \n",
       "1               False    2011-04-29         2.0  Non Spam  \n",
       "2               False           NaN         2.0  Non Spam  \n",
       "3               False    2003-01-29         2.0  Non Spam  \n",
       "4               False    1997-10-02         2.0  Non Spam  "
      ]
     },
     "execution_count": 42,
     "metadata": {},
     "output_type": "execute_result"
    }
   ],
   "source": [
    "csv_path = Path('new_dataset.csv')\n",
    "df = pd.read_csv(csv_path)\n",
    "df['y'] = df['y'].replace({0: 'Non Spam', 1: 'Spam'})\n",
    "df.head(5)"
   ]
  },
  {
   "cell_type": "markdown",
   "metadata": {
    "collapsed": false,
    "jupyter": {
     "outputs_hidden": false
    },
    "pycharm": {
     "name": "#%% md\n"
    }
   },
   "source": [
    "Le dataset est parfaitement équilibré."
   ]
  },
  {
   "cell_type": "code",
   "execution_count": 8,
   "metadata": {
    "collapsed": false,
    "jupyter": {
     "outputs_hidden": false
    },
    "pycharm": {
     "name": "#%%\n"
    }
   },
   "outputs": [
    {
     "data": {
      "image/png": "[encoded data removed]",
      "text/plain": [
       "<Figure size 640x480 with 1 Axes>"
      ]
     },
     "metadata": {},
     "output_type": "display_data"
    }
   ],
   "source": [
    "graph = so.Plot(df, x=\"y\").add(so.Bar(), so.Count(), so.Dodge())\n",
    "graph.show()"
   ]
  },
  {
   "cell_type": "markdown",
   "metadata": {
    "collapsed": false,
    "jupyter": {
     "outputs_hidden": false
    },
    "pycharm": {
     "name": "#%% md\n"
    }
   },
   "source": [
    "# Data visualisation\n",
    "Je vais maintenant mener une série d'analyses visuelles sur les nouvelles caractéristiques obtenues.\n",
    "\n",
    "## Présence de paramètres\n",
    "On s'aperçoit ici que les URL qui demandent des paramètres de connexion ont plus tendance à être des spams. Ce n'est pas automatique, mais c'est une tendance."
   ]
  },
  {
   "cell_type": "code",
   "execution_count": 43,
   "metadata": {
    "collapsed": false,
    "jupyter": {
     "outputs_hidden": false
    },
    "pycharm": {
     "name": "#%%\n"
    }
   },
   "outputs": [
    {
     "data": {
      "image/png": "[encoded data removed]",
      "text/plain": [
       "<Figure size 640x480 with 1 Axes>"
      ]
     },
     "metadata": {},
     "output_type": "display_data"
    }
   ],
   "source": [
    "graph = so.Plot(df, x=\"parameters\",color=\"y\").add(so.Bar(), so.Count(), so.Dodge())\n",
    "graph.show()"
   ]
  },
  {
   "cell_type": "markdown",
   "metadata": {
    "collapsed": false,
    "jupyter": {
     "outputs_hidden": false
    },
    "pycharm": {
     "name": "#%% md\n"
    }
   },
   "source": [
    "## Présence de caractères spécifiques\n",
    "\n",
    "Contre toute attente, dans mon dataset, aucune URL ne contient de caractère trompeur. Je n'utiliserai donc pas cette caractéristique."
   ]
  },
  {
   "cell_type": "code",
   "execution_count": 44,
   "metadata": {
    "collapsed": false,
    "jupyter": {
     "outputs_hidden": false
    },
    "pycharm": {
     "name": "#%%\n"
    }
   },
   "outputs": [
    {
     "data": {
      "image/png": "[encoded data removed]",
      "text/plain": [
       "<Figure size 640x480 with 1 Axes>"
      ]
     },
     "metadata": {},
     "output_type": "display_data"
    }
   ],
   "source": [
    "df['specific_characters'] = df['specific_characters'].replace({0: 'pas de caractères spéciaux', 1: 'caractères spéciaux'})\n",
    "graph = so.Plot(df, x=\"specific_characters\",color=\"y\").add(so.Bar(), so.Count(), so.Dodge())\n",
    "graph.show()"
   ]
  },
  {
   "cell_type": "markdown",
   "metadata": {
    "collapsed": false,
    "jupyter": {
     "outputs_hidden": false
    },
    "pycharm": {
     "name": "#%% md\n"
    }
   },
   "source": [
    "## Analyse de la date de création\n",
    "\n",
    "On s'aperçoit immédiatement que les adresses utilisées pour le fishing ont une tendance à être de nouvelles adresses créées pour l'occasion. Une adresse récente pourrait donc indiquer une adresse potentiellement suspecte."
   ]
  },
  {
   "cell_type": "code",
   "execution_count": 45,
   "metadata": {
    "collapsed": false,
    "jupyter": {
     "outputs_hidden": false
    },
    "pycharm": {
     "name": "#%%\n"
    }
   },
   "outputs": [
    {
     "name": "stderr",
     "output_type": "stream",
     "text": [
      "C:\\Users\\baran\\AppData\\Local\\Temp\\ipykernel_27108\\4087087513.py:1: FutureWarning: A value is trying to be set on a copy of a DataFrame or Series through chained assignment using an inplace method.\n",
      "The behavior will change in pandas 3.0. This inplace method will never work because the intermediate object on which we are setting values always behaves as a copy.\n",
      "\n",
      "For example, when doing 'df[col].method(value, inplace=True)', try using 'df.method({col: value}, inplace=True)' or df[col] = df[col].method(value) instead, to perform the operation inplace on the original object.\n",
      "\n",
      "\n",
      "  df['creation_date'].fillna('2024-04-01', inplace=True)\n"
     ]
    },
    {
     "data": {
      "image/png": "[encoded data removed]",
      "text/plain": [
       "<seaborn._core.plot.Plot at 0x2ab4c88c250>"
      ]
     },
     "execution_count": 45,
     "metadata": {
      "image/png": {
       "height": 378.25,
       "width": 623.05
      }
     },
     "output_type": "execute_result"
    }
   ],
   "source": [
    "df['creation_date'].fillna('2024-04-01', inplace=True)\n",
    "df['creation_date'] = pd.to_datetime(df['creation_date'])\n",
    "df['year'] = df['creation_date'].dt.year\n",
    "df_aggregated = df.groupby(['year', 'y']).size().reset_index(name='count')\n",
    "p = so.Plot(df_aggregated, \"year\", \"count\", color=\"y\")\n",
    "p.add(so.Line(), so.Agg())\n"
   ]
  },
  {
   "cell_type": "markdown",
   "metadata": {
    "collapsed": false,
    "jupyter": {
     "outputs_hidden": false
    },
    "pycharm": {
     "name": "#%% md\n"
    }
   },
   "source": [
    "# Entraînement des modèles\n",
    "\n",
    "J'entraîne chaque modèle sur le nouveau fichier CSV que je charge. \n",
    "\n",
    "Je vais diviser mon dataset en deux parties : une pour l'entraînement de mes modèles intermédiaires et une autre pour l'entraînement de mon modèle final\n",
    "\n",
    "##  Nombre de domaines\n",
    "Ici, j'entraîne un modèle de régression logistique pour obtenir une valeur de seuil à partir de laquelle une URL est suspecte en fonction de son nombre de domaines. Avec un F1-score de 66% pour le label 0, on peut considérer que cette information est une indication, mais ne sera pas décisive dans mon analyse."
   ]
  },
  {
   "cell_type": "code",
   "execution_count": 46,
   "metadata": {},
   "outputs": [
    {
     "name": "stderr",
     "output_type": "stream",
     "text": [
      "C:\\Users\\baran\\AppData\\Local\\Temp\\ipykernel_27108\\1028947717.py:3: FutureWarning: A value is trying to be set on a copy of a DataFrame or Series through chained assignment using an inplace method.\n",
      "The behavior will change in pandas 3.0. This inplace method will never work because the intermediate object on which we are setting values always behaves as a copy.\n",
      "\n",
      "For example, when doing 'df[col].method(value, inplace=True)', try using 'df.method({col: value}, inplace=True)' or df[col] = df[col].method(value) instead, to perform the operation inplace on the original object.\n",
      "\n",
      "\n",
      "  df['sub_domain'].fillna(0, inplace=True)\n",
      "C:\\Users\\baran\\AppData\\Local\\Temp\\ipykernel_27108\\1028947717.py:5: FutureWarning: A value is trying to be set on a copy of a DataFrame or Series through chained assignment using an inplace method.\n",
      "The behavior will change in pandas 3.0. This inplace method will never work because the intermediate object on which we are setting values always behaves as a copy.\n",
      "\n",
      "For example, when doing 'df[col].method(value, inplace=True)', try using 'df.method({col: value}, inplace=True)' or df[col] = df[col].method(value) instead, to perform the operation inplace on the original object.\n",
      "\n",
      "\n",
      "  df['creation_date'].fillna('2024-04-01', inplace=True)\n"
     ]
    }
   ],
   "source": [
    "\n",
    "csv_path = Path('new_dataset.csv')\n",
    "df = pd.read_csv(csv_path)\n",
    "df['sub_domain'].fillna(0, inplace=True)\n",
    "\n",
    "df['creation_date'].fillna('2024-04-01', inplace=True)\n",
    "df['creation_date'] = pd.to_datetime(df['creation_date'])\n",
    "df['month'] = df['creation_date'].dt.month\n",
    "df['year'] = df['creation_date'].dt.year\n",
    "\n",
    "\n",
    "df = df.sample(frac=1, random_state=42)  # mix dataset\n",
    "\n",
    "\n",
    "df_modele_intermediaire = df.iloc[:len(df)//2] # split in 2\n",
    "df_modele_final = df.iloc[len(df)//2:] # split in 2"
   ]
  },
  {
   "cell_type": "code",
   "execution_count": 47,
   "metadata": {
    "pycharm": {
     "name": "#%%\n"
    }
   },
   "outputs": [
    {
     "name": "stdout",
     "output_type": "stream",
     "text": [
      "Accuracy: 0.6035138561854736\n",
      "              precision    recall  f1-score   support\n",
      "\n",
      "         0.0       0.57      0.75      0.65      2689\n",
      "         1.0       0.66      0.46      0.54      2832\n",
      "\n",
      "    accuracy                           0.60      5521\n",
      "   macro avg       0.62      0.61      0.60      5521\n",
      "weighted avg       0.62      0.60      0.60      5521\n",
      "\n"
     ]
    }
   ],
   "source": [
    "\n",
    "X = df_modele_intermediaire[['sub_domain']]\n",
    "y = df_modele_intermediaire['y']\n",
    "\n",
    "\n",
    "X_train, X_test, y_train, y_test = train_test_split(X, y, test_size=0.2, random_state=42)\n",
    "\n",
    "model_sub_domain = LogisticRegression()\n",
    "\n",
    "model_sub_domain.fit(X_train.values, y_train.values)\n",
    "\n",
    "# Prédiction sur l'ensemble de test\n",
    "y_pred = model_sub_domain.predict(X_test.values)\n",
    "\n",
    "accuracy = accuracy_score(y_test, y_pred)\n",
    "print(\"Accuracy:\", accuracy)\n",
    "print(classification_report(y_test, y_pred))"
   ]
  },
  {
   "cell_type": "markdown",
   "metadata": {
    "collapsed": false,
    "jupyter": {
     "outputs_hidden": false
    },
    "pycharm": {
     "name": "#%% md\n"
    }
   },
   "source": [
    "##  Date de création du domaine\n",
    "J'utilise le même type de modèle (Regression logistic) idéal pour repérer les seuils, comme constaté dans le graphique correspondant ci-dessus. Avec des scores F1 proches de 70% et 80% pour le label, on s'aperçoit que la date de création est un élément beaucoup plus fiable pour mesurer si une adresse est suspecte."
   ]
  },
  {
   "cell_type": "code",
   "execution_count": 48,
   "metadata": {
    "pycharm": {
     "name": "#%%\n"
    }
   },
   "outputs": [
    {
     "name": "stdout",
     "output_type": "stream",
     "text": [
      "Accuracy: 0.761999637746785\n",
      "              precision    recall  f1-score   support\n",
      "\n",
      "         0.0       0.87      0.61      0.71      2689\n",
      "         1.0       0.71      0.91      0.80      2832\n",
      "\n",
      "    accuracy                           0.76      5521\n",
      "   macro avg       0.79      0.76      0.75      5521\n",
      "weighted avg       0.78      0.76      0.76      5521\n",
      "\n"
     ]
    }
   ],
   "source": [
    "\n",
    "X = df_modele_intermediaire[['month', 'year']]\n",
    "y = df_modele_intermediaire['y']\n",
    "\n",
    "X_train, X_test, y_train, y_test = train_test_split(X, y, test_size=0.2, random_state=42)\n",
    "\n",
    "model_date = LogisticRegression()\n",
    "model_date.fit(X_train.values, y_train.values)\n",
    "\n",
    "y_pred = model_date.predict(X_test.values)\n",
    "\n",
    "accuracy = accuracy_score(y_test.values, y_pred)\n",
    "print(\"Accuracy:\", accuracy)\n",
    "print(classification_report(y_test, y_pred))"
   ]
  },
  {
   "cell_type": "markdown",
   "metadata": {
    "collapsed": false,
    "jupyter": {
     "outputs_hidden": false
    },
    "pycharm": {
     "name": "#%% md\n"
    }
   },
   "source": [
    "## Analyse de fréquence des mots clefs\n",
    "\n",
    "Je vais maintenant analyser les mots employés dans l'URL. Le réseau ci-dessous est un simple modèle connecté Torch pour analyser en fonction des mots employés (parmi 500 identifiés) si oui ou non l'adresse est suspecte."
   ]
  },
  {
   "cell_type": "code",
   "execution_count": 49,
   "metadata": {
    "pycharm": {
     "name": "#%%\n"
    }
   },
   "outputs": [],
   "source": [
    "\n",
    "class SimpleModel(nn.Module):\n",
    "    def __init__(self):\n",
    "        super(SimpleModel, self).__init__()\n",
    "        self.fc1 = nn.Linear(500, 100) \n",
    "        self.fc2 = nn.Linear(100, 1)   \n",
    "        self.relu = nn.ReLU()          \n",
    "        self.sigmoid = nn.Sigmoid()    \n",
    "        \n",
    "    def forward(self, x):\n",
    "        x = self.fc1(x)\n",
    "        x = self.relu(x)\n",
    "        x = self.fc2(x)\n",
    "        x = self.sigmoid(x)\n",
    "        return x.squeeze(1)\n"
   ]
  },
  {
   "cell_type": "markdown",
   "metadata": {
    "collapsed": false,
    "jupyter": {
     "outputs_hidden": false
    },
    "pycharm": {
     "name": "#%% md\n"
    }
   },
   "source": [
    "\n",
    "Pour cela, je vais utiliser le module TfidfVectorizer de scikit-learn pour vectoriser le texte de chaque URL.\n",
    "\n",
    "* Le texte utilisé ne concerne que l'extension et le chemin (la requête aurait pu être ajoutée). Le nom de domaine n'a pas été utilisé car je ne peux pas le segmenter en mots distincts automatiquement, ou même simplement sur cette partie.\n",
    "* Les textes ont été nettoyés de tous les caractères spéciaux et remplacés par des espaces pour utiliser l'algorithme.\n",
    "* J'utilise simplement les 500 mots avec la fréquence la plus élevée pour classifier une URL.\n",
    "* Je n'entraîne la vectorisation que sur les données du train dataset."
   ]
  },
  {
   "cell_type": "code",
   "execution_count": 50,
   "metadata": {
    "pycharm": {
     "name": "#%%\n"
    }
   },
   "outputs": [],
   "source": [
    "def create_matrice_text_url(df: pd.DataFrame):\n",
    "\n",
    "    \"\"\"\n",
    "    This function takes a DataFrame containing text data and their corresponding labels, \n",
    "    preprocesses the text data, calculates TF-IDF features, and splits the data into \n",
    "    training and testing sets. It then converts the data into tensors and returns \n",
    "    the training and testing data ready for model training.\n",
    "\n",
    "    Parameters:\n",
    "    - df: DataFrame, containing 'text', 'label', 'extension', and 'path' columns.\n",
    "\n",
    "    Returns:\n",
    "    - x_train: Tensor, TF-IDF features of the training data.\n",
    "    - y_train: Tensor, labels of the training data.\n",
    "    - x_test: Tensor, TF-IDF features of the testing data.\n",
    "    - y_test: Tensor, labels of the testing data.\n",
    "    \"\"\"\n",
    "\n",
    "    df_text_analyse = pd.DataFrame(columns=['text', 'label'])\n",
    "    for index, row in tqdm(df.iterrows()):\n",
    "        extension = row['extension']\n",
    "        path = row['path']\n",
    "        full_text = f'{extension} {path}'\n",
    "        separation_char = './_+%\\-'\n",
    "        words = [word for word in re.split(rf'[{separation_char}]', full_text)]\n",
    "        full_text = (' ').join(words)\n",
    "        label = row['y']\n",
    "        df_text_analyse.loc[index] = {'text': full_text, 'label': label}\n",
    "\n",
    "    train_df, test_df = train_test_split(df_text_analyse, test_size=0.2, random_state=42)\n",
    "\n",
    "    tfidf_vectorizer = TfidfVectorizer(max_features=500)\n",
    "    # # Calcul du TF-IDF\n",
    "    tfidf_matrix_train = tfidf_vectorizer.fit_transform(train_df.text).toarray().astype('float16')\n",
    "    tfidf_matrix_test = tfidf_vectorizer.transform(test_df.text).toarray().astype('float16')\n",
    "\n",
    "    train_df = train_df.reset_index(drop=True)\n",
    "    test_df = test_df.reset_index(drop=True)\n",
    "\n",
    "    x_train = []\n",
    "    y_train = []\n",
    "    x_test = []\n",
    "    y_test = []\n",
    "\n",
    "    for i in range(tfidf_matrix_train.shape[0]):\n",
    "        x_train.append(torch.tensor(tfidf_matrix_train[i, :]).to(torch.float32))#.reshape(1, -1)\n",
    "        y_train.append(torch.tensor(train_df.at[i, 'label']).to(torch.float32))\n",
    "\n",
    "    for i in range(tfidf_matrix_test.shape[0]):\n",
    "        x_test.append(torch.tensor(tfidf_matrix_test[i, :]).to(torch.float32)) #.reshape(1, -1)\n",
    "        y_test.append(torch.tensor(test_df.at[i, 'label']).to(torch.float32))\n",
    "\n",
    "    return torch.stack(x_train),  torch.stack(y_train), torch.stack(x_test),  torch.stack(y_test), tfidf_vectorizer\n",
    "\n",
    "\n"
   ]
  },
  {
   "cell_type": "markdown",
   "metadata": {
    "collapsed": false,
    "jupyter": {
     "outputs_hidden": false
    },
    "pycharm": {
     "name": "#%% md\n"
    }
   },
   "source": [
    "J'implémente ici la boucle d'entraînement et de validation. Je recode aussi les différentes métriques habituelles : la précision et le rappel pour les 2 labels."
   ]
  },
  {
   "cell_type": "code",
   "execution_count": 51,
   "metadata": {
    "pycharm": {
     "name": "#%%\n"
    }
   },
   "outputs": [],
   "source": [
    "\n",
    "def train(model, criterion, optimizer, train_loader, num_epochs=20):\n",
    "    model.train()\n",
    "    for epoch in range(num_epochs):\n",
    "        running_loss = 0.0\n",
    "        for inputs, labels in train_loader:\n",
    "            optimizer.zero_grad()\n",
    "            outputs = model(inputs)\n",
    "            loss = criterion(outputs, labels.float())\n",
    "            loss.backward()\n",
    "            optimizer.step()\n",
    "            running_loss += loss.item()\n",
    "        print(f\"Epoch {epoch+1}/{num_epochs}, Loss: {running_loss / len(train_loader)}\")\n",
    "\n",
    "def validate(model, criterion, val_loader):\n",
    "    model.eval()\n",
    "    correct = 0\n",
    "    total = 0\n",
    "    total_predict_label_0 = 0\n",
    "    true_negatif = 0\n",
    "    total_label_0 = 0\n",
    "    total_label_1 = 0\n",
    "    true_positive = 0\n",
    "\n",
    "    total_predict_label_1 = 0\n",
    "    with torch.no_grad():\n",
    "        for inputs, labels in val_loader:\n",
    "            outputs = model(inputs)\n",
    "            predicted = torch.round(outputs)\n",
    "            total += labels.size(0)\n",
    "            correct += (predicted == labels).sum().item()\n",
    "            true_negatif += ((predicted == labels) & (labels == 0)).sum().item()\n",
    "            total_label_0 += (labels == 0).sum().item()\n",
    "            total_predict_label_0 += (predicted == 0).sum().item()\n",
    "            total_label_1 += (labels == 1).sum().item()\n",
    "            total_predict_label_1 += (predicted == 1).sum().item()\n",
    "            true_positive += ((predicted == labels) & (labels == 1)).sum().item()\n",
    "\n",
    "    precision_label_0 = true_negatif / total_predict_label_0 * 100 if total_label_0 != 0 else 0\n",
    "    precision_label_1 = true_positive / total_predict_label_1 * 100 if total_label_1 != 0 else 0\n",
    "    recall_label_0 = true_negatif / total_label_0 * 100 if total_label_0 != 0 else 0\n",
    "    recall_label_1 = true_positive / total_label_1 * 100 if total_label_1 != 0 else 0\n",
    "    accuracy = (true_negatif + true_positive) / total\n",
    "    \n",
    "    print(f'Precision for label 0: {precision_label_0:.2f}%')\n",
    "    print(f'Recall for label 0: {recall_label_0:.2f}%')\n",
    "    print(f'Precision for label 1: {precision_label_1:.2f}%')\n",
    "    print(f'Recall for label 1: {recall_label_1:.2f}%')\n",
    "    print(f'Accuracy: {accuracy:.2f}%')"
   ]
  },
  {
   "cell_type": "markdown",
   "metadata": {
    "collapsed": false,
    "jupyter": {
     "outputs_hidden": false
    },
    "pycharm": {
     "name": "#%% md\n"
    }
   },
   "source": [
    "J'effectue un entraînement sur une dizaine d'époques (la perte ne diminue plus par la suite).\n",
    "\n",
    "J'utilise la fonction de perte BCELoss qui est idéale pour des tâches de classification.\n",
    "\n",
    "Adam est un optimiseur adaptatif et efficace, c'est la raison pour laquelle je l'ai choisi comme optimiseur.\n",
    "\n",
    "Avec une précision et un rappel de 90 % pour les 2 labels, les performances du modèle sont satisfaisantes."
   ]
  },
  {
   "cell_type": "code",
   "execution_count": 52,
   "metadata": {
    "pycharm": {
     "name": "#%%\n"
    }
   },
   "outputs": [
    {
     "name": "stderr",
     "output_type": "stream",
     "text": [
      "27602it [00:42, 644.79it/s]\n"
     ]
    },
    {
     "name": "stdout",
     "output_type": "stream",
     "text": [
      "Epoch 1/8, Loss: 0.3659836428961313\n",
      "Epoch 2/8, Loss: 0.2057803252959527\n",
      "Epoch 3/8, Loss: 0.19506033045519683\n",
      "Epoch 4/8, Loss: 0.1913605088669527\n",
      "Epoch 5/8, Loss: 0.19898222034764773\n",
      "Epoch 6/8, Loss: 0.18917092056149237\n",
      "Epoch 7/8, Loss: 0.18666297790004416\n",
      "Epoch 8/8, Loss: 0.18599367672725542\n",
      "Precision for label 0: 94.81%\n",
      "Recall for label 0: 82.82%\n",
      "Precision for label 1: 85.44%\n",
      "Recall for label 1: 95.69%\n",
      "Accuracy: 0.89%\n"
     ]
    }
   ],
   "source": [
    "\n",
    "x_train, y_train , x_test, y_test, tfidf_vectorizer = create_matrice_text_url(df_modele_intermediaire)\n",
    "\n",
    "\n",
    "train_dataset = TensorDataset(x_train, y_train)\n",
    "train_loader = DataLoader(train_dataset, batch_size=64, shuffle=True)\n",
    "\n",
    "test_dataset = TensorDataset(x_test, y_test)\n",
    "test_loader = DataLoader(test_dataset, batch_size=64, shuffle=True)\n",
    "\n",
    "\n",
    "model_url = SimpleModel()\n",
    "criterion = nn.BCELoss()\n",
    "optimizer = optim.Adam(model_url.parameters(), lr=0.001)\n",
    "train(model_url, criterion, optimizer, train_loader, num_epochs=8)\n",
    "validate(model_url, criterion, test_loader)"
   ]
  },
  {
   "cell_type": "markdown",
   "metadata": {
    "collapsed": false,
    "jupyter": {
     "outputs_hidden": false
    },
    "pycharm": {
     "name": "#%% md\n"
    }
   },
   "source": [
    "## Entraînement du modèle final\n",
    "Pour mettre en œuvre un ensemble de stacking, je vais stocker toutes mes prédictions intermédiaires dans un dataframe intermédiaire. Ensuite, j'utiliserai ce dataset pour effectuer mes predictions finales avec un modèle de boosting.   \n",
    "J'utiliserai pour cela un dataset completement independant des datasets utilisées précedement."
   ]
  },
  {
   "cell_type": "code",
   "execution_count": 54,
   "metadata": {
    "pycharm": {
     "name": "#%%\n"
    }
   },
   "outputs": [
    {
     "data": {
      "text/html": [
       "<div>\n",
       "<style scoped>\n",
       "    .dataframe tbody tr th:only-of-type {\n",
       "        vertical-align: middle;\n",
       "    }\n",
       "\n",
       "    .dataframe tbody tr th {\n",
       "        vertical-align: top;\n",
       "    }\n",
       "\n",
       "    .dataframe thead th {\n",
       "        text-align: right;\n",
       "    }\n",
       "</style>\n",
       "<table border=\"1\" class=\"dataframe\">\n",
       "  <thead>\n",
       "    <tr style=\"text-align: right;\">\n",
       "      <th></th>\n",
       "      <th>domain</th>\n",
       "      <th>extension</th>\n",
       "      <th>path</th>\n",
       "      <th>query</th>\n",
       "      <th>parameters</th>\n",
       "      <th>specific_characters</th>\n",
       "      <th>creation_date</th>\n",
       "      <th>sub_domain</th>\n",
       "      <th>y</th>\n",
       "      <th>month</th>\n",
       "      <th>year</th>\n",
       "    </tr>\n",
       "  </thead>\n",
       "  <tbody>\n",
       "    <tr>\n",
       "      <th>8185</th>\n",
       "      <td>holihjrfmobilitycyprus.com</td>\n",
       "      <td>com</td>\n",
       "      <td>holihjrfmobilitycyprus.com/toate/ZUOnb/</td>\n",
       "      <td>NaN</td>\n",
       "      <td>False</td>\n",
       "      <td>False</td>\n",
       "      <td>2024-04-01</td>\n",
       "      <td>2.0</td>\n",
       "      <td>1.0</td>\n",
       "      <td>4</td>\n",
       "      <td>2024</td>\n",
       "    </tr>\n",
       "    <tr>\n",
       "      <th>3348</th>\n",
       "      <td>fuony-cprner.com</td>\n",
       "      <td>com</td>\n",
       "      <td>fuony-cprner.com/wp-content/plugins/akismet/44...</td>\n",
       "      <td>NaN</td>\n",
       "      <td>False</td>\n",
       "      <td>False</td>\n",
       "      <td>2024-04-01</td>\n",
       "      <td>2.0</td>\n",
       "      <td>1.0</td>\n",
       "      <td>4</td>\n",
       "      <td>2024</td>\n",
       "    </tr>\n",
       "    <tr>\n",
       "      <th>701</th>\n",
       "      <td>tycsapsc.com</td>\n",
       "      <td>com</td>\n",
       "      <td>www.tycsapsc.com/en/zonapublica/index.aspx</td>\n",
       "      <td>NaN</td>\n",
       "      <td>False</td>\n",
       "      <td>False</td>\n",
       "      <td>2003-05-06</td>\n",
       "      <td>2.0</td>\n",
       "      <td>0.0</td>\n",
       "      <td>5</td>\n",
       "      <td>2003</td>\n",
       "    </tr>\n",
       "    <tr>\n",
       "      <th>10914</th>\n",
       "      <td>paypal-doofirm.de</td>\n",
       "      <td>de</td>\n",
       "      <td>paypal-doofirm.de/31569/index.php</td>\n",
       "      <td>NaN</td>\n",
       "      <td>False</td>\n",
       "      <td>False</td>\n",
       "      <td>2024-04-01</td>\n",
       "      <td>2.0</td>\n",
       "      <td>1.0</td>\n",
       "      <td>4</td>\n",
       "      <td>2024</td>\n",
       "    </tr>\n",
       "    <tr>\n",
       "      <th>27971</th>\n",
       "      <td>pastehtml.com</td>\n",
       "      <td>com</td>\n",
       "      <td>pastehtml.com/wiew/cmro08kiz.html</td>\n",
       "      <td>NaN</td>\n",
       "      <td>False</td>\n",
       "      <td>False</td>\n",
       "      <td>2024-04-01</td>\n",
       "      <td>2.0</td>\n",
       "      <td>1.0</td>\n",
       "      <td>4</td>\n",
       "      <td>2024</td>\n",
       "    </tr>\n",
       "  </tbody>\n",
       "</table>\n",
       "</div>"
      ],
      "text/plain": [
       "                           domain extension  \\\n",
       "8185   holihjrfmobilitycyprus.com       com   \n",
       "3348             fuony-cprner.com       com   \n",
       "701                  tycsapsc.com       com   \n",
       "10914           paypal-doofirm.de        de   \n",
       "27971               pastehtml.com       com   \n",
       "\n",
       "                                                    path query  parameters  \\\n",
       "8185             holihjrfmobilitycyprus.com/toate/ZUOnb/   NaN       False   \n",
       "3348   fuony-cprner.com/wp-content/plugins/akismet/44...   NaN       False   \n",
       "701           www.tycsapsc.com/en/zonapublica/index.aspx   NaN       False   \n",
       "10914                  paypal-doofirm.de/31569/index.php   NaN       False   \n",
       "27971                  pastehtml.com/wiew/cmro08kiz.html   NaN       False   \n",
       "\n",
       "      specific_characters creation_date  sub_domain    y  month  year  \n",
       "8185                False    2024-04-01         2.0  1.0      4  2024  \n",
       "3348                False    2024-04-01         2.0  1.0      4  2024  \n",
       "701                 False    2003-05-06         2.0  0.0      5  2003  \n",
       "10914               False    2024-04-01         2.0  1.0      4  2024  \n",
       "27971               False    2024-04-01         2.0  1.0      4  2024  "
      ]
     },
     "execution_count": 54,
     "metadata": {},
     "output_type": "execute_result"
    }
   ],
   "source": [
    "df_modele_final.head(5)"
   ]
  },
  {
   "cell_type": "code",
   "execution_count": 55,
   "metadata": {
    "pycharm": {
     "name": "#%%\n"
    }
   },
   "outputs": [
    {
     "name": "stderr",
     "output_type": "stream",
     "text": [
      "27603it [00:41, 668.79it/s]\n"
     ]
    }
   ],
   "source": [
    "\n",
    "df_stack = df_modele_final[['parameters', 'y']].copy()\n",
    "\n",
    "for index, row in tqdm(df_modele_final.iterrows()):\n",
    "\n",
    "    month = row['month']\n",
    "    year =  row['year']\n",
    "    prediction_date = model_date.predict([[month, year]])\n",
    "    df_stack.at[index, 'prediction_date'] = prediction_date[0]\n",
    "\n",
    "    sub_domain = row['sub_domain']\n",
    "    prediction_domain = model_sub_domain.predict([[sub_domain]])\n",
    "    df_stack.at[index, 'prediction_sub_domain'] = prediction_domain[0]\n",
    "\n",
    "\n",
    "    extension = row['extension']\n",
    "    path = row['path']\n",
    "    full_text = f'{extension} {path}'\n",
    "    separation_char = './_+%\\-'\n",
    "    words = [word for word in re.split(rf'[{separation_char}]', full_text)]\n",
    "    full_text = (' ').join(words)\n",
    "    tfidf_matrix_input = tfidf_vectorizer.transform([full_text]).toarray().astype('float16')\n",
    "    input_tensor = torch.tensor(tfidf_matrix_input).to(torch.float32)\n",
    "    model_url.eval()\n",
    "\n",
    "    with torch.no_grad():\n",
    "        prediction_url = model_url(input_tensor)\n",
    "    # prediction_url = (prediction_url).item()\n",
    "    prediction_url = torch.round(prediction_url).item()\n",
    "    df_stack.at[index, 'prediction_url'] = prediction_url\n",
    "\n",
    "    \n",
    "    \n",
    "    "
   ]
  },
  {
   "cell_type": "code",
   "execution_count": 56,
   "metadata": {
    "pycharm": {
     "name": "#%%\n"
    }
   },
   "outputs": [
    {
     "data": {
      "text/html": [
       "<div>\n",
       "<style scoped>\n",
       "    .dataframe tbody tr th:only-of-type {\n",
       "        vertical-align: middle;\n",
       "    }\n",
       "\n",
       "    .dataframe tbody tr th {\n",
       "        vertical-align: top;\n",
       "    }\n",
       "\n",
       "    .dataframe thead th {\n",
       "        text-align: right;\n",
       "    }\n",
       "</style>\n",
       "<table border=\"1\" class=\"dataframe\">\n",
       "  <thead>\n",
       "    <tr style=\"text-align: right;\">\n",
       "      <th></th>\n",
       "      <th>parameters</th>\n",
       "      <th>y</th>\n",
       "      <th>prediction_date</th>\n",
       "      <th>prediction_sub_domain</th>\n",
       "      <th>prediction_url</th>\n",
       "    </tr>\n",
       "  </thead>\n",
       "  <tbody>\n",
       "    <tr>\n",
       "      <th>8185</th>\n",
       "      <td>False</td>\n",
       "      <td>1.0</td>\n",
       "      <td>1.0</td>\n",
       "      <td>0.0</td>\n",
       "      <td>1.0</td>\n",
       "    </tr>\n",
       "    <tr>\n",
       "      <th>3348</th>\n",
       "      <td>False</td>\n",
       "      <td>1.0</td>\n",
       "      <td>1.0</td>\n",
       "      <td>0.0</td>\n",
       "      <td>1.0</td>\n",
       "    </tr>\n",
       "    <tr>\n",
       "      <th>701</th>\n",
       "      <td>False</td>\n",
       "      <td>0.0</td>\n",
       "      <td>0.0</td>\n",
       "      <td>0.0</td>\n",
       "      <td>0.0</td>\n",
       "    </tr>\n",
       "    <tr>\n",
       "      <th>10914</th>\n",
       "      <td>False</td>\n",
       "      <td>1.0</td>\n",
       "      <td>1.0</td>\n",
       "      <td>0.0</td>\n",
       "      <td>1.0</td>\n",
       "    </tr>\n",
       "    <tr>\n",
       "      <th>27971</th>\n",
       "      <td>False</td>\n",
       "      <td>1.0</td>\n",
       "      <td>1.0</td>\n",
       "      <td>0.0</td>\n",
       "      <td>1.0</td>\n",
       "    </tr>\n",
       "  </tbody>\n",
       "</table>\n",
       "</div>"
      ],
      "text/plain": [
       "       parameters    y  prediction_date  prediction_sub_domain  prediction_url\n",
       "8185        False  1.0              1.0                    0.0             1.0\n",
       "3348        False  1.0              1.0                    0.0             1.0\n",
       "701         False  0.0              0.0                    0.0             0.0\n",
       "10914       False  1.0              1.0                    0.0             1.0\n",
       "27971       False  1.0              1.0                    0.0             1.0"
      ]
     },
     "execution_count": 56,
     "metadata": {},
     "output_type": "execute_result"
    }
   ],
   "source": [
    "# df_stack['parameters'] = df_stack['parameters'].replace({True:1, False: 0})\n",
    "df_stack.head(5)"
   ]
  },
  {
   "cell_type": "markdown",
   "metadata": {
    "collapsed": false,
    "jupyter": {
     "outputs_hidden": false
    },
    "pycharm": {
     "name": "#%% md\n"
    }
   },
   "source": [
    "J'utilise un modèle de boosting pour classifier les URL suspectes en utilisant mes caractéristiques intermédiaires."
   ]
  },
  {
   "cell_type": "code",
   "execution_count": 57,
   "metadata": {
    "pycharm": {
     "name": "#%%\n"
    }
   },
   "outputs": [
    {
     "name": "stdout",
     "output_type": "stream",
     "text": [
      "Accuracy XGBoost: 0.9193986596631045\n"
     ]
    }
   ],
   "source": [
    "\n",
    "\n",
    "xgb_clf = XGBClassifier()\n",
    "\n",
    "X = df_stack.drop(columns=['y']) \n",
    "y = df_stack['y']\n",
    "\n",
    "X_train, X_test, y_train, y_test = train_test_split(X, y, test_size=0.2, random_state=42)\n",
    "\n",
    "xgb_clf.fit(X_train, y_train)\n",
    "y_pred_xgb = xgb_clf.predict(X_test)\n",
    "accuracy_xgb = accuracy_score(y_test, y_pred_xgb)\n",
    "print(\"Accuracy XGBoost:\", accuracy_xgb)\n"
   ]
  },
  {
   "cell_type": "markdown",
   "metadata": {
    "collapsed": false,
    "jupyter": {
     "outputs_hidden": false
    },
    "pycharm": {
     "name": "#%% md\n"
    }
   },
   "source": [
    "Bien que l'analyse de fréquence assure 90 % de l'exactitude finale, grâce à l'analyse de la présence de paramètres et à l'analyse des dates, je diminue l'erreur de 20 %, ce qui est considérable.\n",
    "\n",
    "Les modèles de détection d'adresses frauduleuses ont une précision située entre 90 % et 99 %. Avec les 92 % de ce modèle, je considère que son exactitude est acceptable.\n",
    "\n",
    "# Conclusion\n",
    "## détection de drift"
   ]
  },
  {
   "cell_type": "code",
   "execution_count": null,
   "metadata": {},
   "outputs": [],
   "source": []
  },
  {
   "cell_type": "markdown",
   "metadata": {
    "collapsed": false,
    "jupyter": {
     "outputs_hidden": false
    },
    "pycharm": {
     "name": "#%% md\n"
    }
   },
   "source": [
    "La détection de drift doit être menée pour chaque variable de manière indépendante et périodique (par exemple toutes les semaines). Indépendante, car les variables utilisées sont différentes (entiers, booléens, dates, texte), nous devons donc adapter l'approche pour chacun.\n",
    "\n",
    "* Concernant la présence d'arguments et le nombre de sous-domaines, un test Kolmogorov-Smirnov nous permettra de détecter si la distribution est la même d'une période sur l'autre.\n",
    "\n",
    "* L'approche est similaire pour la détection de texte. Je propose de vérifier si la fréquence d'apparition des mots clés est similaire.\n",
    "\n",
    "* Concernant la date, le drift est inévitable et il sera nécessaire de mettre à jour les informations régulièrement. Les sites fiables restent anciens, mais de nouveaux sites qui hébergent des url suspectes, apparaissent ou disparaissent chaque jour. Les informations doivent donc être régulièrement mises à jour.\n",
    "\n",
    "## Surveiller les performances\n",
    "\n",
    "Le nombre de spams étant beaucoup plus faible que le nombre de courriels valides (ce qui n'était pas le cas dans mon analyse car j'ai utilisé un ensemble de données équilibré pour entraîner mon modèle), je pense qu'il est crucial de surveiller :\n",
    "* le rappel des étiquettes de spam pour garantir que le modèle les détecte toujours tous (le risque étant que les stratégies évoluent). Les liens valides ont a priori moins de raisons de changer au fil du temps.\n",
    "* Il faudra également rester vigilant sur la précision de la détection des courriels valides pour s'assurer qu'une nouvelle stratégie ne contourne pas la méthode que j'ai développée. Dans ce cas, la précision de détection des courriels valides pourrait diminuer.\n",
    "\n",
    "À noter que cette approche doit être réalisée sur le modèle final, mais aussi sur les modèles intermédiaires pour détecter une modification locale des performances.\n",
    "\n",
    "\n",
    "## Ajout de nouvelles caractéristiques\n",
    "Dans un vrai projet, ma classe pour créer de nouvelles caractéristiques n'aurait pas été codée en fonction (comme je l'ai fait dans la class CharacteristicURL), mais chaque fonction serait une classe indépendante qui hériterait d'une classe générale (classe d'abstraction).\n",
    "\n",
    "L'intérêt est de pouvoir facilement intégrer une nouvelle caractéristique dans le pipeline (elle prendrait les mêmes entrées et fournirait les mêmes sorties). Cette class de caractéristique pourrait éventuellement intégrer son propre modèle de prédiction. L'objectif serait de soumettre au modèle final une liste d'inputs de type classe qui hérite de CaracteristiqueURL.\n",
    " On pourrait ainsi très simplement ajouter ou enlever l'analyse ou l'utilisation d'une ou plusieurs caractéristiques en modifiant la liste d'instance de CaracteristiqueURL que l'on fournirait en input du modèle final.\n",
    " Il s'agirait typiquement d'une approche SOLID.\n",
    "\n",
    "Dans ce notebook, ce n'est pas l'approche utilisée, car je me trouve davantage dans le cadre d'un POC que dans la mise en production d'un logiciel (l'approche SOLID est très efficace mais demande un peu plus de temps de développement)."
   ]
  },
  {
   "cell_type": "code",
   "execution_count": null,
   "metadata": {},
   "outputs": [],
   "source": []
  }
 ],
 "metadata": {
  "kernelspec": {
   "display_name": "Python 3 (ipykernel)",
   "language": "python",
   "name": "python3"
  },
  "language_info": {
   "codemirror_mode": {
    "name": "ipython",
    "version": 3
   },
   "file_extension": ".py",
   "mimetype": "text/x-python",
   "name": "python",
   "nbconvert_exporter": "python",
   "pygments_lexer": "ipython3",
   "version": "3.10.5"
  }
 },
 "nbformat": 4,
 "nbformat_minor": 4
}